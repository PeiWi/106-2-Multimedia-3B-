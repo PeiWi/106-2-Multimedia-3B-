{
 "cells": [
  {
   "cell_type": "code",
   "execution_count": 1,
   "metadata": {},
   "outputs": [
    {
     "ename": "SyntaxError",
     "evalue": "invalid syntax (<ipython-input-1-20569ac3bf76>, line 12)",
     "output_type": "error",
     "traceback": [
      "\u001b[0;36m  File \u001b[0;32m\"<ipython-input-1-20569ac3bf76>\"\u001b[0;36m, line \u001b[0;32m12\u001b[0m\n\u001b[0;31m    for k in range(0,3)\u001b[0m\n\u001b[0m                          ^\u001b[0m\n\u001b[0;31mSyntaxError\u001b[0m\u001b[0;31m:\u001b[0m invalid syntax\n"
     ]
    }
   ],
   "source": [
    "from skimage import io,data\n",
    "import numpy as np\n",
    "\n",
    "img=io.imread('SASA.jpg') \n",
    "rows,cols,dims=img.shape \n",
    "row2 = int(rows/2) \n",
    "col2 = int(cols/2)\n",
    "img2 = img\n",
    "\n",
    "for i in range(0,row2):\n",
    "    for j in range(0,cols): \n",
    "        for k in range(0,3):   \n",
    "            img2[i,j,k] = img[i,j,k]\n",
    "            \n",
    "for i in range(row2,rows): \n",
    "    for j in range(0,cols): \n",
    "        for k in range(0,3):\n",
    "            img2[i,j,k] = img[row2+(-1)*(i-row2),j,k]\n",
    "            \n",
    "io.imshow(img2)\n",
    "io.show()\n"
   ]
  },
  {
   "cell_type": "code",
   "execution_count": null,
   "metadata": {},
   "outputs": [],
   "source": []
  }
 ],
 "metadata": {
  "kernelspec": {
   "display_name": "Python 3",
   "language": "python",
   "name": "python3"
  },
  "language_info": {
   "codemirror_mode": {
    "name": "ipython",
    "version": 3
   },
   "file_extension": ".py",
   "mimetype": "text/x-python",
   "name": "python",
   "nbconvert_exporter": "python",
   "pygments_lexer": "ipython3",
   "version": "3.6.4"
  }
 },
 "nbformat": 4,
 "nbformat_minor": 2
}
